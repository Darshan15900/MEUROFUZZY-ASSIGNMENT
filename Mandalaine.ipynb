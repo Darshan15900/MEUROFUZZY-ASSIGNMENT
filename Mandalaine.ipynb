{
  "metadata": {
    "language_info": {
      "codemirror_mode": {
        "name": "python",
        "version": 3
      },
      "file_extension": ".py",
      "mimetype": "text/x-python",
      "name": "python",
      "nbconvert_exporter": "python",
      "pygments_lexer": "ipython3",
      "version": "3.8"
    },
    "kernelspec": {
      "name": "python",
      "display_name": "Pyolite",
      "language": "python"
    }
  },
  "nbformat_minor": 4,
  "nbformat": 4,
  "cells": [
    {
      "cell_type": "code",
      "source": "import numpy as np",
      "metadata": {
        "trusted": true
      },
      "execution_count": 1,
      "outputs": []
    },
    {
      "cell_type": "code",
      "source": "def sigmoid(z):\n    return 1 / (1 + np.exp(-z))",
      "metadata": {
        "trusted": true
      },
      "execution_count": 2,
      "outputs": []
    },
    {
      "cell_type": "code",
      "source": "def initialization(input_feat, hidden_neurons, output_feat):\n    W1 = np.random.randn(hidden_neurons, input_feat)\n    W2 = np.random.randn(output_feat, hidden_neurons)\n    b1 = np.zeros((hidden_neurons, 1))\n    b2 = np.zeros((output_feat, 1))\n     \n    parameters = {\"W1\" : W1, \"b1\": b1,\n                  \"W2\" : W2, \"b2\": b2}\n    return parameters",
      "metadata": {
        "trusted": true
      },
      "execution_count": 3,
      "outputs": []
    },
    {
      "cell_type": "code",
      "source": "def forward_propagation(X, Y, parameters):\n    m = X.shape[1]\n    W1 = parameters[\"W1\"]\n    W2 = parameters[\"W2\"]\n    b1 = parameters[\"b1\"]\n    b2 = parameters[\"b2\"]\n \n    Z1 = np.dot(W1, X) + b1\n    A1 = sigmoid(Z1)\n    Z2 = np.dot(W2, A1) + b2\n    A2 = sigmoid(Z2)\n \n    cache = (Z1, A1, W1, b1, Z2, A2, W2, b2)\n    logprobs = np.multiply(np.log(A2), Y) + np.multiply(np.log(1 - A2), (1 - Y))\n    cost = -np.sum(logprobs) / m\n    return cost, cache, A2",
      "metadata": {
        "trusted": true
      },
      "execution_count": 4,
      "outputs": []
    },
    {
      "cell_type": "code",
      "source": "def backward_propagation(X, Y, cache):\n    m = X.shape[1]\n    (Z1, A1, W1, b1, Z2, A2, W2, b2) = cache\n     \n    dZ2 = A2 - Y\n    dW2 = np.dot(dZ2, A1.T) / m\n    db2 = np.sum(dZ2, axis = 1, keepdims = True)\n     \n    dA1 = np.dot(W2.T, dZ2)\n    dZ1 = np.multiply(dA1, A1 * (1- A1))\n    dW1 = np.dot(dZ1, X.T) / m\n    db1 = np.sum(dZ1, axis = 1, keepdims = True) / m\n     \n    gradients = {\"dZ2\": dZ2, \"dW2\": dW2, \"db2\": db2,\n                 \"dZ1\": dZ1, \"dW1\": dW1, \"db1\": db1}\n    return gradients",
      "metadata": {
        "trusted": true
      },
      "execution_count": 5,
      "outputs": []
    },
    {
      "cell_type": "code",
      "source": "def updateParameters(parameters, gradients, learningRate):\n    parameters[\"W1\"] = parameters[\"W1\"] - learningRate * gradients[\"dW1\"]\n    parameters[\"W2\"] = parameters[\"W2\"] - learningRate * gradients[\"dW2\"]\n    parameters[\"b1\"] = parameters[\"b1\"] - learningRate * gradients[\"db1\"]\n    parameters[\"b2\"] = parameters[\"b2\"] - learningRate * gradients[\"db2\"]\n    return parameters",
      "metadata": {
        "trusted": true
      },
      "execution_count": 6,
      "outputs": []
    },
    {
      "cell_type": "code",
      "source": "X = np.array([[0, 0, 1, 1], [0, 1, 0, 1]])\nY = np.array([[0, 1, 1, 0]])\n\nhidden_neurons = 2\ninput_feat = X.shape[0]\noutput_feat = Y.shape[0]\nparameters = initialization(input_feat, hidden_neurons, output_feat)\nepoch = 100000\nlearningRate = 0.01\nlosses = np.zeros((epoch, 1))\n\nfor i in range(epoch):\n    losses[i, 0], cache, A2 = forward_propagation(X, Y, parameters)\n    gradients = backward_propagation(X, Y, cache)\n    parameters = updateParameters(parameters, gradients, learningRate)",
      "metadata": {
        "trusted": true
      },
      "execution_count": 7,
      "outputs": []
    },
    {
      "cell_type": "code",
      "source": "X = np.array([[1, 1, 0, 0], [0, 1, 0, 1]]) # XOR input\ncost, _, A2 = forward_propagation(X, Y, parameters)\nprediction = (A2 > 0.5) * 1.0\n\nprint(prediction)",
      "metadata": {
        "trusted": true
      },
      "execution_count": 8,
      "outputs": [
        {
          "name": "stdout",
          "text": "[[1. 0. 0. 1.]]\n",
          "output_type": "stream"
        }
      ]
    },
    {
      "cell_type": "code",
      "source": "",
      "metadata": {},
      "execution_count": null,
      "outputs": []
    }
  ]
}